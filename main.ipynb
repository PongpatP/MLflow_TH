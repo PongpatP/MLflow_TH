{
 "cells": [
  {
   "cell_type": "markdown",
   "metadata": {},
   "source": [
    "## [MLflow](https://pypi.org/project/mlflow/)\n",
    "\n",
    "1. MLflow `Tracking` (เหมือนเป็นการเก็บ log)\n",
    "    - Record metrics and parameters from training runs  \n",
    "    - Query data from exprtiments\n",
    "    - Store models, artifacts and code\n",
    "2. MLflow `Models`\n",
    "    - Standardize models for deployment\n",
    "    - Build customized models \n",
    "3. Model `Registry`\n",
    "    - Store and version ML models\n",
    "    - Load and deploy ML models\n",
    "4. MLflow `Projects`\n",
    "    - Package ML code for reproducibility (ความสามารถในการทำซ้ำทั้งหมด , re + product)\n",
    "    - Package ML code for repeatability  (ความสามารถในการวัดผลซ้ำๆด้วยเงื่อนไขเดิมเพื่อหา variation)"
   ]
  },
  {
   "cell_type": "code",
   "execution_count": 5,
   "metadata": {},
   "outputs": [
    {
     "data": {
      "text/plain": [
       "<Experiment: artifact_location='file:///d:/Learn/MLflow/mlruns/461920538239138280', creation_time=1696515714439, experiment_id='461920538239138280', last_update_time=1696515714439, lifecycle_stage='active', name='My Experiment', tags={}>"
      ]
     },
     "execution_count": 5,
     "metadata": {},
     "output_type": "execute_result"
    }
   ],
   "source": [
    "import mlflow\n",
    "# Create new Experiment\n",
    "mlflow.create_experiment(\"My Experiment\")\n",
    "# Tag new experiment\n",
    "mlflow.set_experiment_tag(\"scikit-learn\", \"lr\")\n",
    "# Set the experiment\n",
    "mlflow.set_experiment(\"My Experiment\") # ต้องชื่อเดียวกับที่ Create "
   ]
  },
  {
   "cell_type": "code",
   "execution_count": 10,
   "metadata": {},
   "outputs": [
    {
     "data": {
      "text/plain": [
       "<ActiveRun: >"
      ]
     },
     "execution_count": 10,
     "metadata": {},
     "output_type": "execute_result"
    }
   ],
   "source": [
    "# Start a run\n",
    "mlflow.start_run() # ถ้า start แล้วครั้งหนึ่งก็ไม่ต้องรันซ้ำ เว้นแต่จะ end_run()"
   ]
  },
  {
   "cell_type": "code",
   "execution_count": 31,
   "metadata": {},
   "outputs": [],
   "source": [
    "# End a run\n",
    "mlflow.end_run() # ก่อนจะ end ก็ต้อง start ก่อน"
   ]
  },
  {
   "cell_type": "code",
   "execution_count": null,
   "metadata": {},
   "outputs": [],
   "source": []
  },
  {
   "cell_type": "markdown",
   "metadata": {},
   "source": [
    "#### Setting a training run variable"
   ]
  },
  {
   "cell_type": "code",
   "execution_count": 27,
   "metadata": {},
   "outputs": [
    {
     "name": "stdout",
     "output_type": "stream",
     "text": [
      "<RunInfo: artifact_uri='file:///d:/Learn/MLflow/mlruns/461920538239138280/45e8a097218549e9af87bba6a324b9e4/artifacts', end_time=None, experiment_id='461920538239138280', lifecycle_stage='active', run_id='45e8a097218549e9af87bba6a324b9e4', run_name='selective-fly-822', run_uuid='45e8a097218549e9af87bba6a324b9e4', start_time=1696518208777, status='RUNNING', user_id='aspir'>\n"
     ]
    }
   ],
   "source": [
    "import mlflow\n",
    "# Set the experiment\n",
    "mlflow.set_experiment(\"My Experiment\") \n",
    "# Start a run\n",
    "run = mlflow.start_run() \n",
    "# Print run.info\n",
    "print(run.info)\n",
    "\n",
    "## ถ้าขึ้น error อาจจะเป็นเพราะยังไม่ได้ end_run() ให้กลับไปรันโค้ดดังกล่าวก่อนหน้านี้ก่อน\n",
    "## ถ้าไปตามดูในคอมเราตามตำแหน่งที่เราเก็บไฟล์ไว้จะเห็นว่ามีการสร้าง folder ตามชื่อตัวแปร experiment_id ขึ้นมาใหม่ ซึ่งภายในนั้นจะมีข้อมูลต่างๆเก็บไว้อยู่\n",
    "## ถ้าอยากรู้ว่าสร้างเพิ่มจริงไหมลอง end_run() แล้วกด start_run() ใหม่เรือยๆดูจะเห็นว่ามี folder เพิ่มขึ้นจริงๆ"
   ]
  },
  {
   "cell_type": "code",
   "execution_count": null,
   "metadata": {},
   "outputs": [],
   "source": []
  },
  {
   "cell_type": "markdown",
   "metadata": {},
   "source": [
    "#### Logging to MLflow Tracking\n",
    "1. Metrics\n",
    "    - log_metric(\"accuracy\", 0.90)\n",
    "    - log_metrics({\"accuracy\":0.90, \"loss\":0.50})\n",
    "2. Parameters\n",
    "    - log_param(\"n_jobs\",1)\n",
    "    - log_params({\"n_jobs\":1, \"fit_intercept\":False})\n",
    "3. Artifacts\n",
    "    - log_artifact(\"file.py\")\n",
    "    - log_artifacts(\"./directory/\")"
   ]
  },
  {
   "cell_type": "code",
   "execution_count": 32,
   "metadata": {},
   "outputs": [
    {
     "ename": "NameError",
     "evalue": "name 'LogisticRegression' is not defined",
     "output_type": "error",
     "traceback": [
      "\u001b[1;31m---------------------------------------------------------------------------\u001b[0m",
      "\u001b[1;31mNameError\u001b[0m                                 Traceback (most recent call last)",
      "\u001b[1;32md:\\Learn\\MLflow\\main.ipynb Cell 10\u001b[0m line \u001b[0;36m9\n\u001b[0;32m      <a href='vscode-notebook-cell:/d%3A/Learn/MLflow/main.ipynb#X11sZmlsZQ%3D%3D?line=5'>6</a>\u001b[0m run \u001b[39m=\u001b[39m mlflow\u001b[39m.\u001b[39mstart_run() \n\u001b[0;32m      <a href='vscode-notebook-cell:/d%3A/Learn/MLflow/main.ipynb#X11sZmlsZQ%3D%3D?line=7'>8</a>\u001b[0m \u001b[39m# Model training\u001b[39;00m\n\u001b[1;32m----> <a href='vscode-notebook-cell:/d%3A/Learn/MLflow/main.ipynb#X11sZmlsZQ%3D%3D?line=8'>9</a>\u001b[0m lr \u001b[39m=\u001b[39m LogisticRegression(n_job\u001b[39m=\u001b[39m\u001b[39m1\u001b[39m)\n\u001b[0;32m     <a href='vscode-notebook-cell:/d%3A/Learn/MLflow/main.ipynb#X11sZmlsZQ%3D%3D?line=10'>11</a>\u001b[0m \u001b[39m# Model evaluation \u001b[39;00m\n\u001b[0;32m     <a href='vscode-notebook-cell:/d%3A/Learn/MLflow/main.ipynb#X11sZmlsZQ%3D%3D?line=11'>12</a>\u001b[0m lr\u001b[39m.\u001b[39mfit(X,y)\n",
      "\u001b[1;31mNameError\u001b[0m: name 'LogisticRegression' is not defined"
     ]
    }
   ],
   "source": [
    "import mlflow\n",
    "from sklearn.datasets import load_iris\n",
    "from sklearn.linear_model import LogisticRegression\n",
    "\n",
    "# Set the experiment\n",
    "mlflow.set_experiment(\"My Experiment\") \n",
    "\n",
    "# Start a run\n",
    "run = mlflow.start_run() \n",
    "\n",
    "##################### Model  #######################\n",
    "#  training\n",
    "lr = LogisticRegression(n_job=1)\n",
    "\n",
    "# Model evaluation \n",
    "lr.fit(X,y)\n",
    "socre =lr.score(X,y)\n",
    "####################################################\n",
    "\n",
    "# Log a metric \n",
    "mlflow.log_metric(\"score\", score)\n",
    "\n",
    "# Log a parameter\n",
    "mlflow.log_param(\"n_jobs\",1)\n",
    "\n",
    "# Log an artifact\n",
    "mlflow.log_artifact(\"train_code.py\")"
   ]
  },
  {
   "cell_type": "code",
   "execution_count": 34,
   "metadata": {},
   "outputs": [],
   "source": [
    "# Open MLdlow UI\n",
    "! mlflow ui"
   ]
  },
  {
   "cell_type": "code",
   "execution_count": null,
   "metadata": {},
   "outputs": [],
   "source": []
  }
 ],
 "metadata": {
  "kernelspec": {
   "display_name": "Python 3",
   "language": "python",
   "name": "python3"
  },
  "language_info": {
   "codemirror_mode": {
    "name": "ipython",
    "version": 3
   },
   "file_extension": ".py",
   "mimetype": "text/x-python",
   "name": "python",
   "nbconvert_exporter": "python",
   "pygments_lexer": "ipython3",
   "version": "3.9.2"
  },
  "orig_nbformat": 4
 },
 "nbformat": 4,
 "nbformat_minor": 2
}
