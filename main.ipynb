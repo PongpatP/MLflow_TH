{
 "cells": [
  {
   "cell_type": "markdown",
   "metadata": {},
   "source": [
    "## [MLflow](https://pypi.org/project/mlflow/)\n",
    "\n",
    "1. MLflow `Tracking` (เหมือนเป็นการเก็บ log)\n",
    "    - Record metrics and parameters from training runs  \n",
    "    - Query data from exprtiments\n",
    "    - Store models, artifacts and code\n",
    "2. MLflow `Models`\n",
    "    - Standardize models for deployment\n",
    "    - Build customized models \n",
    "3. Model `Registry`\n",
    "    - Store and version ML models\n",
    "    - Load and deploy ML models\n",
    "4. MLflow `Projects`\n",
    "    - Package ML code for reproducibility (ความสามารถในการทำซ้ำทั้งหมด , re + product)\n",
    "    - Package ML code for repeatability  (ความสามารถในการวัดผลซ้ำๆด้วยเงื่อนไขเดิมเพื่อหา variation)"
   ]
  },
  {
   "cell_type": "code",
   "execution_count": 5,
   "metadata": {},
   "outputs": [
    {
     "data": {
      "text/plain": [
       "<Experiment: artifact_location='file:///d:/Learn/MLflow/mlruns/461920538239138280', creation_time=1696515714439, experiment_id='461920538239138280', last_update_time=1696515714439, lifecycle_stage='active', name='My Experiment', tags={}>"
      ]
     },
     "execution_count": 5,
     "metadata": {},
     "output_type": "execute_result"
    }
   ],
   "source": [
    "import mlflow\n",
    "# Create new Experiment\n",
    "mlflow.create_experiment(\"My Experiment\")\n",
    "# Tag new experiment\n",
    "mlflow.set_experiment_tag(\"scikit-learn\", \"lr\")\n",
    "# Set the experiment\n",
    "mlflow.set_experiment(\"My Experiment\") # ต้องชื่อเดียวกับที่ Create "
   ]
  },
  {
   "cell_type": "code",
   "execution_count": 10,
   "metadata": {},
   "outputs": [
    {
     "data": {
      "text/plain": [
       "<ActiveRun: >"
      ]
     },
     "execution_count": 10,
     "metadata": {},
     "output_type": "execute_result"
    }
   ],
   "source": [
    "# Start a run\n",
    "mlflow.start_run() # ถ้า start แล้วครั้งหนึ่งก็ไม่ต้องรันซ้ำ เว้นแต่จะ end_run()"
   ]
  },
  {
   "cell_type": "code",
   "execution_count": 58,
   "metadata": {},
   "outputs": [],
   "source": [
    "# End a run\n",
    "mlflow.end_run() # ก่อนจะ end ก็ต้อง start ก่อน"
   ]
  },
  {
   "cell_type": "code",
   "execution_count": null,
   "metadata": {},
   "outputs": [],
   "source": []
  },
  {
   "cell_type": "markdown",
   "metadata": {},
   "source": [
    "#### Setting a training run variable"
   ]
  },
  {
   "cell_type": "code",
   "execution_count": 27,
   "metadata": {},
   "outputs": [
    {
     "name": "stdout",
     "output_type": "stream",
     "text": [
      "<RunInfo: artifact_uri='file:///d:/Learn/MLflow/mlruns/461920538239138280/45e8a097218549e9af87bba6a324b9e4/artifacts', end_time=None, experiment_id='461920538239138280', lifecycle_stage='active', run_id='45e8a097218549e9af87bba6a324b9e4', run_name='selective-fly-822', run_uuid='45e8a097218549e9af87bba6a324b9e4', start_time=1696518208777, status='RUNNING', user_id='aspir'>\n"
     ]
    }
   ],
   "source": [
    "import mlflow\n",
    "# Set the experiment\n",
    "mlflow.set_experiment(\"My Experiment\") \n",
    "# Start a run\n",
    "run = mlflow.start_run() \n",
    "# Print run.info\n",
    "print(run.info)\n",
    "\n",
    "## ถ้าขึ้น error อาจจะเป็นเพราะยังไม่ได้ end_run() ให้กลับไปรันโค้ดดังกล่าวก่อนหน้านี้ก่อน\n",
    "## ถ้าไปตามดูในคอมเราตามตำแหน่งที่เราเก็บไฟล์ไว้จะเห็นว่ามีการสร้าง folder ตามชื่อตัวแปร experiment_id ขึ้นมาใหม่ ซึ่งภายในนั้นจะมีข้อมูลต่างๆเก็บไว้อยู่\n",
    "## ถ้าอยากรู้ว่าสร้างเพิ่มจริงไหมลอง end_run() แล้วกด start_run() ใหม่เรือยๆดูจะเห็นว่ามี folder เพิ่มขึ้นจริงๆ"
   ]
  },
  {
   "cell_type": "code",
   "execution_count": null,
   "metadata": {},
   "outputs": [],
   "source": []
  },
  {
   "cell_type": "markdown",
   "metadata": {},
   "source": [
    "#### Logging to MLflow Tracking\n",
    "1. Metrics\n",
    "    - log_metric(\"accuracy\", 0.90)\n",
    "    - log_metrics({\"accuracy\":0.90, \"loss\":0.50})\n",
    "2. Parameters\n",
    "    - log_param(\"n_jobs\",1)\n",
    "    - log_params({\"n_jobs\":1, \"fit_intercept\":False})\n",
    "3. Artifacts\n",
    "    - log_artifact(\"file.py\")\n",
    "    - log_artifacts(\"./directory/\")"
   ]
  },
  {
   "cell_type": "markdown",
   "metadata": {},
   "source": [
    "https://mlflow.org/docs/latest/tracking.html#automatic-logging เดียวมาลองหลายๆโมเดล"
   ]
  },
  {
   "cell_type": "code",
   "execution_count": 62,
   "metadata": {},
   "outputs": [
    {
     "name": "stderr",
     "output_type": "stream",
     "text": [
      "c:\\Users\\aspir\\AppData\\Local\\Programs\\Python\\Python39\\lib\\site-packages\\sklearn\\linear_model\\_logistic.py:444: ConvergenceWarning: lbfgs failed to converge (status=1):\n",
      "STOP: TOTAL NO. of ITERATIONS REACHED LIMIT.\n",
      "\n",
      "Increase the number of iterations (max_iter) or scale the data as shown in:\n",
      "    https://scikit-learn.org/stable/modules/preprocessing.html\n",
      "Please also refer to the documentation for alternative solver options:\n",
      "    https://scikit-learn.org/stable/modules/linear_model.html#logistic-regression\n",
      "  n_iter_i = _check_optimize_result(\n"
     ]
    }
   ],
   "source": [
    "import mlflow\n",
    "from sklearn.datasets import load_iris\n",
    "from sklearn.linear_model import LogisticRegression # https://scikit-learn.org/stable/modules/generated/sklearn.linear_model.LogisticRegression.html\n",
    "import os\n",
    "\n",
    "# Set the experiment\n",
    "mlflow.set_experiment(\"My Experiment\") \n",
    "\n",
    "# Start a run\n",
    "try: run = mlflow.start_run() \n",
    "except:\n",
    "    mlflow.end_run()\n",
    "    mlflow.start_run()\n",
    "\n",
    "\n",
    "##################### Model  #######################\n",
    "# Import data\n",
    "X, y = load_iris(return_X_y=True)\n",
    "\n",
    "#  training\n",
    "lr = LogisticRegression(n_jobs=1)\n",
    "\n",
    "# Model evaluation \n",
    "lr.fit(X,y)\n",
    "score = lr.score(X,y)\n",
    "\n",
    "####################################################\n",
    "\n",
    "# Log a metric \n",
    "mlflow.log_metric(\"score\", score)\n",
    "\n",
    "# Log a parameter\n",
    "mlflow.log_param(\"n_jobs\",1)\n",
    "\n",
    "# Log an artifact\n",
    "path = 'D:\\Learn\\MLflow\\log_artifacts'\n",
    "if not os.path.exists(path):\n",
    "    os.makedirs(path)\n",
    "with open(os.path.join(path, 'test.txt'), \"w\") as f:\n",
    "    f.write(\"hello world!\")\n",
    "mlflow.log_artifacts(path)\n",
    "\n",
    "# End a run\n",
    "mlflow.end_run()"
   ]
  },
  {
   "cell_type": "markdown",
   "metadata": {},
   "source": [
    "#### View MLflow runs and experiments\n",
    "`$ mlflow ui`\n",
    "\n",
    "จากการรันคำสั่งดังกล่าวจะทำให้เราสามารถกด [http://localhost:5000](http://localhost:5000) ซึ่งจะแสดงหน้าเว็ปของ MLflow ที่ทำให้เราสามารถจัดการหลายๆได้ง่ายขึ้น <br>\n",
    "ส่วนทำอะไรได้บ้างแนะนำให้ไปอ่านในเอกสารของ Library   -> [MLflow Quick Start](https://mlflow.org/docs/latest/quickstart.html)"
   ]
  },
  {
   "cell_type": "code",
   "execution_count": null,
   "metadata": {},
   "outputs": [],
   "source": []
  }
 ],
 "metadata": {
  "kernelspec": {
   "display_name": "Python 3",
   "language": "python",
   "name": "python3"
  },
  "language_info": {
   "codemirror_mode": {
    "name": "ipython",
    "version": 3
   },
   "file_extension": ".py",
   "mimetype": "text/x-python",
   "name": "python",
   "nbconvert_exporter": "python",
   "pygments_lexer": "ipython3",
   "version": "3.9.2"
  },
  "orig_nbformat": 4
 },
 "nbformat": 4,
 "nbformat_minor": 2
}
